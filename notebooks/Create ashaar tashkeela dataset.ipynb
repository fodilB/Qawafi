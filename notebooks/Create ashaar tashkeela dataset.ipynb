{
 "cells": [
  {
   "cell_type": "code",
   "execution_count": null,
   "id": "c65accb5",
   "metadata": {},
   "outputs": [],
   "source": [
    "!pip install -U datasets"
   ]
  },
  {
   "cell_type": "code",
   "execution_count": 2,
   "id": "36aed5e5",
   "metadata": {},
   "outputs": [
    {
     "name": "stdout",
     "output_type": "stream",
     "text": [
      "Collecting charset-normalizer==3.1.0\n",
      "  Using cached charset_normalizer-3.1.0-cp38-cp38-manylinux_2_17_x86_64.manylinux2014_x86_64.whl (195 kB)\n",
      "Installing collected packages: charset-normalizer\n",
      "  Attempting uninstall: charset-normalizer\n",
      "    Found existing installation: charset-normalizer 3.1.0\n",
      "    Uninstalling charset-normalizer-3.1.0:\n",
      "      Successfully uninstalled charset-normalizer-3.1.0\n",
      "Successfully installed charset-normalizer-3.1.0\n"
     ]
    }
   ],
   "source": [
    "!pip install --force-reinstall charset-normalizer==3.1.0"
   ]
  },
  {
   "cell_type": "code",
   "execution_count": 2,
   "id": "1cd13286",
   "metadata": {
    "scrolled": false
   },
   "outputs": [],
   "source": [
    "from datasets import load_dataset"
   ]
  },
  {
   "cell_type": "code",
   "execution_count": 3,
   "id": "b0f9b953",
   "metadata": {
    "scrolled": true
   },
   "outputs": [
    {
     "name": "stderr",
     "output_type": "stream",
     "text": [
      "Found cached dataset parquet (/home/g201080740/.cache/huggingface/datasets/arbml___parquet/MagedSaeed--ashaar-719bb58a76ea0092/0.0.0/2a3b91fbd88a2c90d1dbbb32b460cf621d31bd5b05b934492fdef7d8d6f236ec)\n"
     ]
    },
    {
     "data": {
      "application/vnd.jupyter.widget-view+json": {
       "model_id": "96927d100d4d4e70a3df5e12158b6825",
       "version_major": 2,
       "version_minor": 0
      },
      "text/plain": [
       "  0%|          | 0/1 [00:00<?, ?it/s]"
      ]
     },
     "metadata": {},
     "output_type": "display_data"
    }
   ],
   "source": [
    "dataset = load_dataset(\"arbml/ashaar\")"
   ]
  },
  {
   "cell_type": "code",
   "execution_count": 4,
   "id": "a875abc5",
   "metadata": {},
   "outputs": [],
   "source": [
    "subset = dataset['train'].select(range(1000))"
   ]
  },
  {
   "cell_type": "code",
   "execution_count": 5,
   "id": "3129408a",
   "metadata": {},
   "outputs": [
    {
     "data": {
      "text/plain": [
       "Dataset({\n",
       "    features: ['poem title', 'poem meter', 'poem verses', 'poem theme', 'poem url', 'poet name', 'poet description', 'poet url', 'poet era', 'poet location', 'poem description', 'poem language type'],\n",
       "    num_rows: 1000\n",
       "})"
      ]
     },
     "execution_count": 5,
     "metadata": {},
     "output_type": "execute_result"
    }
   ],
   "source": [
    "subset"
   ]
  },
  {
   "cell_type": "code",
   "execution_count": 6,
   "id": "f5d3fc29",
   "metadata": {},
   "outputs": [],
   "source": [
    "from pyarabic.araby import strip_tashkeel\n",
    "import re \n",
    "from poetry_diacritizer.util.constants import *\n",
    "from diacritization_evaluation.util import extract_haraqat\n",
    "\n",
    "def check_percentage_tashkeel(sample, perc = 0.95):\n",
    "    sample = re.sub(r'['+''.join(PUNCTUATIONS)+']', ' ', sample)\n",
    "    sample = re.sub(' +', '', sample)\n",
    "    try:\n",
    "        input, plain, harakat = extract_haraqat(sample)\n",
    "        plain   = [char for char in plain if char not in 'اويى']\n",
    "        harakat = [harakah for harakah in harakat if len(harakah) > 0]\n",
    "    except:\n",
    "        return False\n",
    "    \n",
    "    if len(plain) == 0:\n",
    "        return False\n",
    "    return len(harakat)/len(plain) > perc\n",
    "\n",
    "def filter_by_tashkeel(sample):\n",
    "    out = []\n",
    "    for bayt in sample['poem verses']:\n",
    "        if check_percentage_tashkeel(bayt):\n",
    "            out.append(bayt)\n",
    "    return {'text': ' '.join(out)}"
   ]
  },
  {
   "cell_type": "code",
   "execution_count": 7,
   "id": "d06b87b2",
   "metadata": {},
   "outputs": [],
   "source": [
    "columns = [k for k in dataset['train'].features]"
   ]
  },
  {
   "cell_type": "code",
   "execution_count": 8,
   "id": "c9d9c89b",
   "metadata": {
    "scrolled": false
   },
   "outputs": [
    {
     "name": "stderr",
     "output_type": "stream",
     "text": [
      "Loading cached processed dataset at /home/g201080740/.cache/huggingface/datasets/arbml___parquet/MagedSaeed--ashaar-719bb58a76ea0092/0.0.0/2a3b91fbd88a2c90d1dbbb32b460cf621d31bd5b05b934492fdef7d8d6f236ec/cache-08090717de7913cb.arrow\n"
     ]
    }
   ],
   "source": [
    "cleaned = dataset.map(filter_by_tashkeel, remove_columns = columns)"
   ]
  },
  {
   "cell_type": "code",
   "execution_count": 9,
   "id": "a95a8a50",
   "metadata": {},
   "outputs": [
    {
     "name": "stderr",
     "output_type": "stream",
     "text": [
      "Loading cached processed dataset at /home/g201080740/.cache/huggingface/datasets/arbml___parquet/MagedSaeed--ashaar-719bb58a76ea0092/0.0.0/2a3b91fbd88a2c90d1dbbb32b460cf621d31bd5b05b934492fdef7d8d6f236ec/cache-019cdc4d6a0b1138.arrow\n"
     ]
    }
   ],
   "source": [
    "filtered = cleaned.filter(lambda example: len(example['text']) > 10)"
   ]
  },
  {
   "cell_type": "code",
   "execution_count": 10,
   "id": "ff9916a6",
   "metadata": {},
   "outputs": [
    {
     "data": {
      "text/plain": [
       "DatasetDict({\n",
       "    train: Dataset({\n",
       "        features: ['text'],\n",
       "        num_rows: 26091\n",
       "    })\n",
       "})"
      ]
     },
     "execution_count": 10,
     "metadata": {},
     "output_type": "execute_result"
    }
   ],
   "source": [
    "filtered"
   ]
  },
  {
   "cell_type": "code",
   "execution_count": 11,
   "id": "44d42784",
   "metadata": {},
   "outputs": [
    {
     "data": {
      "text/plain": [
       "'فَهَزَّ رُدَينِيّاً كَأَنَّ كُعوبَهُ'"
      ]
     },
     "execution_count": 11,
     "metadata": {},
     "output_type": "execute_result"
    }
   ],
   "source": [
    "filtered['train'][5000]['text']"
   ]
  },
  {
   "cell_type": "code",
   "execution_count": 12,
   "id": "910e632e",
   "metadata": {},
   "outputs": [],
   "source": [
    "from datasets import DatasetDict\n",
    "\n",
    "def generate_splits(dataset):\n",
    "    train_testvalid = dataset['train'].train_test_split(test_size=0.1,seed = 41)\n",
    "    test_valid = train_testvalid['test'].train_test_split(test_size=0.5,seed = 41)\n",
    "    train_test_valid_dataset = DatasetDict({\n",
    "      'train': train_testvalid['train'],\n",
    "      'test': test_valid['test'],\n",
    "      'valid': test_valid['train']})\n",
    "    return train_test_valid_dataset"
   ]
  },
  {
   "cell_type": "code",
   "execution_count": 13,
   "id": "7851c0c4",
   "metadata": {},
   "outputs": [
    {
     "data": {
      "text/plain": [
       "{'text': Value(dtype='string', id=None)}"
      ]
     },
     "execution_count": 13,
     "metadata": {},
     "output_type": "execute_result"
    }
   ],
   "source": [
    "filtered['train'].features"
   ]
  },
  {
   "cell_type": "code",
   "execution_count": 14,
   "id": "cd8b9709",
   "metadata": {},
   "outputs": [],
   "source": [
    "def save_dataset_csv(dataset, path = 'data/CA_MSA'):\n",
    "    dataset['train'].to_csv(f'{path}/train.csv', encoding='utf-8', header= False, index = False)\n",
    "    dataset['valid'].to_csv(f'{path}/eval.csv', encoding='utf-8', header= False, index = False)\n",
    "    dataset['test'].to_csv(f'{path}/test.csv', encoding='utf-8', header= False, index = False)"
   ]
  },
  {
   "cell_type": "code",
   "execution_count": 15,
   "id": "58406c33",
   "metadata": {},
   "outputs": [
    {
     "name": "stderr",
     "output_type": "stream",
     "text": [
      "Loading cached split indices for dataset at /home/g201080740/.cache/huggingface/datasets/arbml___parquet/MagedSaeed--ashaar-719bb58a76ea0092/0.0.0/2a3b91fbd88a2c90d1dbbb32b460cf621d31bd5b05b934492fdef7d8d6f236ec/cache-0cad275139025ba0.arrow and /home/g201080740/.cache/huggingface/datasets/arbml___parquet/MagedSaeed--ashaar-719bb58a76ea0092/0.0.0/2a3b91fbd88a2c90d1dbbb32b460cf621d31bd5b05b934492fdef7d8d6f236ec/cache-a03014c1092d0636.arrow\n",
      "Loading cached split indices for dataset at /home/g201080740/.cache/huggingface/datasets/arbml___parquet/MagedSaeed--ashaar-719bb58a76ea0092/0.0.0/2a3b91fbd88a2c90d1dbbb32b460cf621d31bd5b05b934492fdef7d8d6f236ec/cache-0ce351534c515fbc.arrow and /home/g201080740/.cache/huggingface/datasets/arbml___parquet/MagedSaeed--ashaar-719bb58a76ea0092/0.0.0/2a3b91fbd88a2c90d1dbbb32b460cf621d31bd5b05b934492fdef7d8d6f236ec/cache-769b7593e9a60401.arrow\n"
     ]
    }
   ],
   "source": [
    "splitted_dataset = generate_splits(filtered)"
   ]
  },
  {
   "cell_type": "code",
   "execution_count": 16,
   "id": "6d532f4d",
   "metadata": {},
   "outputs": [
    {
     "data": {
      "text/plain": [
       "DatasetDict({\n",
       "    train: Dataset({\n",
       "        features: ['text'],\n",
       "        num_rows: 23481\n",
       "    })\n",
       "    test: Dataset({\n",
       "        features: ['text'],\n",
       "        num_rows: 1305\n",
       "    })\n",
       "    valid: Dataset({\n",
       "        features: ['text'],\n",
       "        num_rows: 1305\n",
       "    })\n",
       "})"
      ]
     },
     "execution_count": 16,
     "metadata": {},
     "output_type": "execute_result"
    }
   ],
   "source": [
    "splitted_dataset"
   ]
  },
  {
   "cell_type": "code",
   "execution_count": 17,
   "id": "6df0cde6",
   "metadata": {},
   "outputs": [
    {
     "name": "stderr",
     "output_type": "stream",
     "text": [
      "Pushing split train to the Hub.\n"
     ]
    },
    {
     "data": {
      "application/vnd.jupyter.widget-view+json": {
       "model_id": "968482051342472e8c9f2a19fc563821",
       "version_major": 2,
       "version_minor": 0
      },
      "text/plain": [
       "Pushing dataset shards to the dataset hub:   0%|          | 0/1 [00:00<?, ?it/s]"
      ]
     },
     "metadata": {},
     "output_type": "display_data"
    },
    {
     "data": {
      "application/vnd.jupyter.widget-view+json": {
       "model_id": "0eee3c76715e47fb9a1b62da462ca3a2",
       "version_major": 2,
       "version_minor": 0
      },
      "text/plain": [
       "Creating parquet from Arrow format:   0%|          | 0/24 [00:00<?, ?ba/s]"
      ]
     },
     "metadata": {},
     "output_type": "display_data"
    },
    {
     "data": {
      "application/vnd.jupyter.widget-view+json": {
       "model_id": "d7fb5ae368684e59a10fc0dc69726b95",
       "version_major": 2,
       "version_minor": 0
      },
      "text/plain": [
       "Upload 1 LFS files:   0%|          | 0/1 [00:00<?, ?it/s]"
      ]
     },
     "metadata": {},
     "output_type": "display_data"
    },
    {
     "name": "stderr",
     "output_type": "stream",
     "text": [
      "Pushing split test to the Hub.\n"
     ]
    },
    {
     "data": {
      "application/vnd.jupyter.widget-view+json": {
       "model_id": "8e4b56aca9624e17bcb063f188ac1843",
       "version_major": 2,
       "version_minor": 0
      },
      "text/plain": [
       "Pushing dataset shards to the dataset hub:   0%|          | 0/1 [00:00<?, ?it/s]"
      ]
     },
     "metadata": {},
     "output_type": "display_data"
    },
    {
     "data": {
      "application/vnd.jupyter.widget-view+json": {
       "model_id": "270e08a57afa4db9a0b10680539e9f3f",
       "version_major": 2,
       "version_minor": 0
      },
      "text/plain": [
       "Creating parquet from Arrow format:   0%|          | 0/2 [00:00<?, ?ba/s]"
      ]
     },
     "metadata": {},
     "output_type": "display_data"
    },
    {
     "data": {
      "application/vnd.jupyter.widget-view+json": {
       "model_id": "ade9b5d5e27f4cd3bc6cb359d5afa7c4",
       "version_major": 2,
       "version_minor": 0
      },
      "text/plain": [
       "Upload 1 LFS files:   0%|          | 0/1 [00:00<?, ?it/s]"
      ]
     },
     "metadata": {},
     "output_type": "display_data"
    },
    {
     "name": "stderr",
     "output_type": "stream",
     "text": [
      "Pushing split valid to the Hub.\n"
     ]
    },
    {
     "data": {
      "application/vnd.jupyter.widget-view+json": {
       "model_id": "b3a49366f65041dbb35198da8901d334",
       "version_major": 2,
       "version_minor": 0
      },
      "text/plain": [
       "Pushing dataset shards to the dataset hub:   0%|          | 0/1 [00:00<?, ?it/s]"
      ]
     },
     "metadata": {},
     "output_type": "display_data"
    },
    {
     "data": {
      "application/vnd.jupyter.widget-view+json": {
       "model_id": "5778bc3a031541faa6fc7ef8977eb159",
       "version_major": 2,
       "version_minor": 0
      },
      "text/plain": [
       "Creating parquet from Arrow format:   0%|          | 0/2 [00:00<?, ?ba/s]"
      ]
     },
     "metadata": {},
     "output_type": "display_data"
    },
    {
     "data": {
      "application/vnd.jupyter.widget-view+json": {
       "model_id": "88bc8c20b623498db46496757220bfca",
       "version_major": 2,
       "version_minor": 0
      },
      "text/plain": [
       "Upload 1 LFS files:   0%|          | 0/1 [00:00<?, ?it/s]"
      ]
     },
     "metadata": {},
     "output_type": "display_data"
    }
   ],
   "source": [
    "splitted_dataset.push_to_hub('Zaid/Ashaar_diacritized')"
   ]
  },
  {
   "cell_type": "code",
   "execution_count": 108,
   "id": "8a088fe6",
   "metadata": {},
   "outputs": [],
   "source": [
    "!mkdir -p data/ashaar_proc"
   ]
  },
  {
   "cell_type": "code",
   "execution_count": 109,
   "id": "008f069d",
   "metadata": {},
   "outputs": [
    {
     "data": {
      "application/vnd.jupyter.widget-view+json": {
       "model_id": "2d518d3e8c614b7dbc35a3c3e4ee98a1",
       "version_major": 2,
       "version_minor": 0
      },
      "text/plain": [
       "Creating CSV from Arrow format:   0%|          | 0/24 [00:00<?, ?ba/s]"
      ]
     },
     "metadata": {},
     "output_type": "display_data"
    },
    {
     "data": {
      "application/vnd.jupyter.widget-view+json": {
       "model_id": "6ed16e7a0898432dbcf6b588408da012",
       "version_major": 2,
       "version_minor": 0
      },
      "text/plain": [
       "Creating CSV from Arrow format:   0%|          | 0/2 [00:00<?, ?ba/s]"
      ]
     },
     "metadata": {},
     "output_type": "display_data"
    },
    {
     "data": {
      "application/vnd.jupyter.widget-view+json": {
       "model_id": "55918ed21c3f43ea95e9620643666c4d",
       "version_major": 2,
       "version_minor": 0
      },
      "text/plain": [
       "Creating CSV from Arrow format:   0%|          | 0/2 [00:00<?, ?ba/s]"
      ]
     },
     "metadata": {},
     "output_type": "display_data"
    }
   ],
   "source": [
    "save_dataset_csv(splitted_dataset, path = 'data/ashaar_proc')"
   ]
  },
  {
   "cell_type": "code",
   "execution_count": 19,
   "id": "05bfecd7",
   "metadata": {},
   "outputs": [
    {
     "data": {
      "text/plain": [
       "{'text': 'قَمَرِيَّةٌ قُمرِيَّةٌ'}"
      ]
     },
     "execution_count": 19,
     "metadata": {},
     "output_type": "execute_result"
    }
   ],
   "source": [
    "splitted_dataset['test'][0]"
   ]
  },
  {
   "cell_type": "code",
   "execution_count": null,
   "id": "1bb3f5a5",
   "metadata": {},
   "outputs": [],
   "source": []
  }
 ],
 "metadata": {
  "kernelspec": {
   "display_name": "Python 3 (ipykernel)",
   "language": "python",
   "name": "python3"
  },
  "language_info": {
   "codemirror_mode": {
    "name": "ipython",
    "version": 3
   },
   "file_extension": ".py",
   "mimetype": "text/x-python",
   "name": "python",
   "nbconvert_exporter": "python",
   "pygments_lexer": "ipython3",
   "version": "3.8.10"
  }
 },
 "nbformat": 4,
 "nbformat_minor": 5
}
