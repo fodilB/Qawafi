{
 "cells": [
  {
   "cell_type": "code",
   "execution_count": 3,
   "id": "1cd13286",
   "metadata": {},
   "outputs": [],
   "source": [
    "!mkdir data/tash_proc"
   ]
  },
  {
   "cell_type": "code",
   "execution_count": 2,
   "id": "c9d9c89b",
   "metadata": {},
   "outputs": [
    {
     "name": "stdout",
     "output_type": "stream",
     "text": [
      "eval.csv  test.csv  train.csv\r\n"
     ]
    }
   ],
   "source": [
    "!ls data/CA_MSA"
   ]
  },
  {
   "cell_type": "code",
   "execution_count": 18,
   "id": "ea4bd5f1",
   "metadata": {},
   "outputs": [
    {
     "name": "stdout",
     "output_type": "stream",
     "text": [
      "--2023-05-14 17:10:58--  https://raw.githubusercontent.com/AliOsm/arabic-text-diacritization/master/dataset/test.txt\n",
      "Resolving raw.githubusercontent.com (raw.githubusercontent.com)... 185.199.109.133, 185.199.111.133, 185.199.108.133, ...\n",
      "Connecting to raw.githubusercontent.com (raw.githubusercontent.com)|185.199.109.133|:443... connected.\n",
      "HTTP request sent, awaiting response... 200 OK\n",
      "Length: 1747544 (1.7M) [text/plain]\n",
      "Saving to: ‘data/tash_proc/test.csv’\n",
      "\n",
      "data/tash_proc/test 100%[===================>]   1.67M  2.18MB/s    in 0.8s    \n",
      "\n",
      "2023-05-14 17:10:59 (2.18 MB/s) - ‘data/tash_proc/test.csv’ saved [1747544/1747544]\n",
      "\n"
     ]
    }
   ],
   "source": [
    "!wget https://raw.githubusercontent.com/AliOsm/arabic-text-diacritization/master/dataset/test.txt -O data/tash_proc/test.csv\n",
    "# !wget https://raw.githubusercontent.com/AliOsm/arabic-text-diacritization/master/dataset/train.txt -O data/tash_proc/train.csv\n",
    "# !wget https://raw.githubusercontent.com/AliOsm/arabic-text-diacritization/master/dataset/val.txt -O data/tash_proc/eval.csv    "
   ]
  },
  {
   "cell_type": "code",
   "execution_count": 5,
   "id": "63406736",
   "metadata": {},
   "outputs": [
    {
     "name": "stdout",
     "output_type": "stream",
     "text": [
      "eval.csv  test.csv  train.csv\r\n"
     ]
    }
   ],
   "source": [
    "!ls data/tash_proc"
   ]
  },
  {
   "cell_type": "code",
   "execution_count": 6,
   "id": "910e632e",
   "metadata": {},
   "outputs": [],
   "source": [
    "import pandas as pd"
   ]
  },
  {
   "cell_type": "code",
   "execution_count": 16,
   "id": "3abd3805",
   "metadata": {},
   "outputs": [
    {
     "data": {
      "text/html": [
       "<div>\n",
       "<style scoped>\n",
       "    .dataframe tbody tr th:only-of-type {\n",
       "        vertical-align: middle;\n",
       "    }\n",
       "\n",
       "    .dataframe tbody tr th {\n",
       "        vertical-align: top;\n",
       "    }\n",
       "\n",
       "    .dataframe thead th {\n",
       "        text-align: right;\n",
       "    }\n",
       "</style>\n",
       "<table border=\"1\" class=\"dataframe\">\n",
       "  <thead>\n",
       "    <tr style=\"text-align: right;\">\n",
       "      <th></th>\n",
       "      <th>التَعْقِيبِ رِوَايَتَانِ وَهُوَ صَلَاتُهُ بَعْدَهَا وَبَعْدَ وِتْرٍ جَمَاعَةً نَصَ عَلَيْهِ انْتَهَى ، يَعْنِي هَلْ يُكْرَهُ فِعْلُ التَعْقِيبِ أَوْ يُكْرَهُ ، أَطْلَقَ الْخِلَافَ وَأَطْلَقَهُ فِي الْمُقْنِعِ ، وَمُخْتَصَرِ ابْنِ تَمِيمٍ ، وَالْفَائِقِ وَغَيْرِهِمْ ، إحْدَاهُمَا لَا يُكْرَهُ ، وَهُوَ الْمَذْهَبُ عَلَى مَا اصْطَلَحْنَاهُ فِي الْخُطْبَةِ نَقَلَهُ الْجَمَاعَةُ عَنْ الْإِمَامِ أَحْمَدَ وَصَحَحَهُ فِي الْمُغْنِي ، وَالشَرْحِ ، وَشَرْحِ ابْنِ مُنَجَى وَصَاحِبُ التَصْحِيحِ ، فِي كِتَاب</th>\n",
       "    </tr>\n",
       "  </thead>\n",
       "  <tbody>\n",
       "    <tr>\n",
       "      <th>0</th>\n",
       "      <td>وَمُ الْغِنَاءُ فِي الْجَارِيَةِ الْمُغَنِيَةِ...</td>\n",
       "    </tr>\n",
       "    <tr>\n",
       "      <th>1</th>\n",
       "      <td>: أَحَدُ حُدُودِهَا الدَاخِلَةِ أَوْ الطَرِيق...</td>\n",
       "    </tr>\n",
       "    <tr>\n",
       "      <th>2</th>\n",
       "      <td>َدِي إلَى الْكُفْرِ كَاَلَذِي قَبْلَهُ وَمِنْ ...</td>\n",
       "    </tr>\n",
       "    <tr>\n",
       "      <th>3</th>\n",
       "      <td>ْلِهِ فَيَتَطَاوَلُ أَبُو طَلْحَةَ بِصَدْرِهِ ...</td>\n",
       "    </tr>\n",
       "    <tr>\n",
       "      <th>4</th>\n",
       "      <td>ُ إنْ كَانَ حِيلَةً فَلَا يُعْجِبُنِي وَنَقَلَ...</td>\n",
       "    </tr>\n",
       "  </tbody>\n",
       "</table>\n",
       "</div>"
      ],
      "text/plain": [
       "  التَعْقِيبِ رِوَايَتَانِ وَهُوَ صَلَاتُهُ بَعْدَهَا وَبَعْدَ وِتْرٍ جَمَاعَةً نَصَ عَلَيْهِ انْتَهَى ، يَعْنِي هَلْ يُكْرَهُ فِعْلُ التَعْقِيبِ أَوْ يُكْرَهُ ، أَطْلَقَ الْخِلَافَ وَأَطْلَقَهُ فِي الْمُقْنِعِ ، وَمُخْتَصَرِ ابْنِ تَمِيمٍ ، وَالْفَائِقِ وَغَيْرِهِمْ ، إحْدَاهُمَا لَا يُكْرَهُ ، وَهُوَ الْمَذْهَبُ عَلَى مَا اصْطَلَحْنَاهُ فِي الْخُطْبَةِ نَقَلَهُ الْجَمَاعَةُ عَنْ الْإِمَامِ أَحْمَدَ وَصَحَحَهُ فِي الْمُغْنِي ، وَالشَرْحِ ، وَشَرْحِ ابْنِ مُنَجَى وَصَاحِبُ التَصْحِيحِ ، فِي كِتَاب\n",
       "0  وَمُ الْغِنَاءُ فِي الْجَارِيَةِ الْمُغَنِيَةِ...                                                                                                                                                                                                                                                                                                                                                                                                                                                                  \n",
       "1   : أَحَدُ حُدُودِهَا الدَاخِلَةِ أَوْ الطَرِيق...                                                                                                                                                                                                                                                                                                                                                                                                                                                                  \n",
       "2  َدِي إلَى الْكُفْرِ كَاَلَذِي قَبْلَهُ وَمِنْ ...                                                                                                                                                                                                                                                                                                                                                                                                                                                                  \n",
       "3  ْلِهِ فَيَتَطَاوَلُ أَبُو طَلْحَةَ بِصَدْرِهِ ...                                                                                                                                                                                                                                                                                                                                                                                                                                                                  \n",
       "4  ُ إنْ كَانَ حِيلَةً فَلَا يُعْجِبُنِي وَنَقَلَ...                                                                                                                                                                                                                                                                                                                                                                                                                                                                  "
      ]
     },
     "execution_count": 16,
     "metadata": {},
     "output_type": "execute_result"
    }
   ],
   "source": [
    "pd.read_csv('data/CA_MSA/test.csv').head()"
   ]
  },
  {
   "cell_type": "code",
   "execution_count": 17,
   "id": "8e96b16d",
   "metadata": {},
   "outputs": [],
   "source": [
    "!rm data/tash_proc/test.csv"
   ]
  },
  {
   "cell_type": "code",
   "execution_count": 27,
   "id": "b7ed025c",
   "metadata": {},
   "outputs": [
    {
     "name": "stderr",
     "output_type": "stream",
     "text": [
      "/tmp/ipykernel_241312/1875593441.py:1: ParserWarning: Falling back to the 'python' engine because the 'c' engine does not support regex separators (separators > 1 char and different from '\\s+' are interpreted as regex); you can avoid this warning by specifying engine='python'.\n",
      "  pd.read_csv('data/tash_proc/eval.csv', delimiter = '\\\\n').to_csv('data/tash_proc/eval.csv', index=False)\n"
     ]
    }
   ],
   "source": [
    "pd.read_csv('data/tash_proc/eval.csv', delimiter = '\\\\n').to_csv('data/tash_proc/eval.csv', index=False)"
   ]
  },
  {
   "cell_type": "code",
   "execution_count": 4,
   "id": "de4dd2de",
   "metadata": {},
   "outputs": [
    {
     "name": "stderr",
     "output_type": "stream",
     "text": [
      "/tmp/ipykernel_371858/934562550.py:2: ParserWarning: Falling back to the 'python' engine because the 'c' engine does not support regex separators (separators > 1 char and different from '\\s+' are interpreted as regex); you can avoid this warning by specifying engine='python'.\n",
      "  pd.read_csv('data/tash_proc/train.csv', delimiter = '\\\\n')\n"
     ]
    },
    {
     "data": {
      "text/html": [
       "<div>\n",
       "<style scoped>\n",
       "    .dataframe tbody tr th:only-of-type {\n",
       "        vertical-align: middle;\n",
       "    }\n",
       "\n",
       "    .dataframe tbody tr th {\n",
       "        vertical-align: top;\n",
       "    }\n",
       "\n",
       "    .dataframe thead th {\n",
       "        text-align: right;\n",
       "    }\n",
       "</style>\n",
       "<table border=\"1\" class=\"dataframe\">\n",
       "  <thead>\n",
       "    <tr style=\"text-align: right;\">\n",
       "      <th></th>\n",
       "      <th>وَلَوْ جَمَعَ ثُمَّ عَلِمَ تَرْكَ رُكْنٍ مِنْ الْأُولَى بَطَلَتَا وَيُعِيدُهُمَا جَامِعًا ، أَوْ مِنْ الثَّانِيَةِ ، فَإِنْ لَمْ يَطُلْ تَدَارَكَ ، وَإِلَّا فَبَاطِلَةٌ وَلَا جَمَعَ ، وَلَوْ جَهِلَ أَعَادَهُمَا لِوَقْتَيْهِمَا</th>\n",
       "    </tr>\n",
       "  </thead>\n",
       "  <tbody>\n",
       "    <tr>\n",
       "      <th>0</th>\n",
       "      <td>قَالَ أَبُو زَيْدٍ أَهْلُ تِهَامَةَ يُؤَنِّثُو...</td>\n",
       "    </tr>\n",
       "    <tr>\n",
       "      <th>1</th>\n",
       "      <td>بِمَنْزِلَةِ أَهْلِ الذِّمَّةِ إذَا دَخَلُوا ق...</td>\n",
       "    </tr>\n",
       "    <tr>\n",
       "      <th>2</th>\n",
       "      <td>الْمَسْأَلَةُ الْخَامِسَةُ قَوْله تَعَالَى : {...</td>\n",
       "    </tr>\n",
       "    <tr>\n",
       "      <th>3</th>\n",
       "      <td>قَوْلُهُ ( وَاَلَّذِي لَا يَتَغَابَنُ النَّاسُ...</td>\n",
       "    </tr>\n",
       "    <tr>\n",
       "      <th>4</th>\n",
       "      <td>( سُئِلَ ) رَحِمَهُ اللَّهُ عَنْ قَوْلِهِمْ إن...</td>\n",
       "    </tr>\n",
       "    <tr>\n",
       "      <th>...</th>\n",
       "      <td>...</td>\n",
       "    </tr>\n",
       "    <tr>\n",
       "      <th>49994</th>\n",
       "      <td>بَلْ تَنْتَقِلُ .</td>\n",
       "    </tr>\n",
       "    <tr>\n",
       "      <th>49995</th>\n",
       "      <td>16422 - حَدَّثَنَا سُفْيَانُ عَنِ الزُّهْرِيِّ...</td>\n",
       "    </tr>\n",
       "    <tr>\n",
       "      <th>49996</th>\n",
       "      <td>وَإِنَّمَا ذَكَرَ التَّخْلِيَةَ لِيُفِيدَ أَنّ...</td>\n",
       "    </tr>\n",
       "    <tr>\n",
       "      <th>49997</th>\n",
       "      <td>قَوْلُهُ : [ بِثَلَاثَةَ عَشْرَ ] : حَاصِلُ ذَ...</td>\n",
       "    </tr>\n",
       "    <tr>\n",
       "      <th>49998</th>\n",
       "      <td>وَعِلَّةُ الْخَبَبِ أَنَّهُ لَمَّا قَدِمَ أَصْ...</td>\n",
       "    </tr>\n",
       "  </tbody>\n",
       "</table>\n",
       "<p>49999 rows × 1 columns</p>\n",
       "</div>"
      ],
      "text/plain": [
       "      وَلَوْ جَمَعَ ثُمَّ عَلِمَ تَرْكَ رُكْنٍ مِنْ الْأُولَى بَطَلَتَا وَيُعِيدُهُمَا جَامِعًا ، أَوْ مِنْ الثَّانِيَةِ ، فَإِنْ لَمْ يَطُلْ تَدَارَكَ ، وَإِلَّا فَبَاطِلَةٌ وَلَا جَمَعَ ، وَلَوْ جَهِلَ أَعَادَهُمَا لِوَقْتَيْهِمَا\n",
       "0      قَالَ أَبُو زَيْدٍ أَهْلُ تِهَامَةَ يُؤَنِّثُو...                                                                                                                                                                                \n",
       "1      بِمَنْزِلَةِ أَهْلِ الذِّمَّةِ إذَا دَخَلُوا ق...                                                                                                                                                                                \n",
       "2      الْمَسْأَلَةُ الْخَامِسَةُ قَوْله تَعَالَى : {...                                                                                                                                                                                \n",
       "3      قَوْلُهُ ( وَاَلَّذِي لَا يَتَغَابَنُ النَّاسُ...                                                                                                                                                                                \n",
       "4      ( سُئِلَ ) رَحِمَهُ اللَّهُ عَنْ قَوْلِهِمْ إن...                                                                                                                                                                                \n",
       "...                                                  ...                                                                                                                                                                                \n",
       "49994                                  بَلْ تَنْتَقِلُ .                                                                                                                                                                                \n",
       "49995  16422 - حَدَّثَنَا سُفْيَانُ عَنِ الزُّهْرِيِّ...                                                                                                                                                                                \n",
       "49996  وَإِنَّمَا ذَكَرَ التَّخْلِيَةَ لِيُفِيدَ أَنّ...                                                                                                                                                                                \n",
       "49997  قَوْلُهُ : [ بِثَلَاثَةَ عَشْرَ ] : حَاصِلُ ذَ...                                                                                                                                                                                \n",
       "49998  وَعِلَّةُ الْخَبَبِ أَنَّهُ لَمَّا قَدِمَ أَصْ...                                                                                                                                                                                \n",
       "\n",
       "[49999 rows x 1 columns]"
      ]
     },
     "execution_count": 4,
     "metadata": {},
     "output_type": "execute_result"
    }
   ],
   "source": [
    "import pandas as pd\n",
    "pd.read_csv('data/tash_proc/train.csv', delimiter = '\\\\n')"
   ]
  },
  {
   "cell_type": "code",
   "execution_count": null,
   "id": "5598cca8",
   "metadata": {},
   "outputs": [],
   "source": []
  }
 ],
 "metadata": {
  "kernelspec": {
   "display_name": "Python 3 (ipykernel)",
   "language": "python",
   "name": "python3"
  },
  "language_info": {
   "codemirror_mode": {
    "name": "ipython",
    "version": 3
   },
   "file_extension": ".py",
   "mimetype": "text/x-python",
   "name": "python",
   "nbconvert_exporter": "python",
   "pygments_lexer": "ipython3",
   "version": "3.8.10"
  }
 },
 "nbformat": 4,
 "nbformat_minor": 5
}
