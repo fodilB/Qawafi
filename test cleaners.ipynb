{
 "cells": [
  {
   "cell_type": "code",
   "execution_count": 1,
   "id": "9468f343",
   "metadata": {},
   "outputs": [],
   "source": [
    "# from predict import DiacritizationTester\n",
    "# tester = DiacritizationTester('config/test.yml', 'cbhg', model_path = \"log_dir_ashaar\")"
   ]
  },
  {
   "cell_type": "code",
   "execution_count": 2,
   "id": "904933eb",
   "metadata": {
    "scrolled": true
   },
   "outputs": [],
   "source": [
    "# tester.infer(\"لا تعذل المشتاق في أشواقه حتى يكون حشاك في أحشائه\")"
   ]
  },
  {
   "cell_type": "code",
   "execution_count": 3,
   "id": "57b50f99",
   "metadata": {},
   "outputs": [],
   "source": [
    "# tester.infer(\"من ذا الذي ماساء قط ومن له الحسنى فقط\")"
   ]
  },
  {
   "cell_type": "code",
   "execution_count": 4,
   "id": "25ba36ff",
   "metadata": {},
   "outputs": [],
   "source": [
    "lines = open('test_samples.txt', 'r').read().splitlines()\n",
    "samples = []\n",
    "for i in range(0, len(lines), 3):\n",
    "    samples.append(lines[i:i+2])\n",
    "\n",
    "# print(samples)"
   ]
  },
  {
   "cell_type": "code",
   "execution_count": 5,
   "id": "4bfc38e2",
   "metadata": {},
   "outputs": [],
   "source": [
    "from util.text_cleaners import valid_arabic_cleaners\n",
    "def test_all():\n",
    "    flag = True\n",
    "    for sample in samples:\n",
    "        cleaned_text = valid_arabic_cleaners(sample[0])\n",
    "        if cleaned_text != sample[1]:\n",
    "            print(f'pred: {cleaned_text} != expc: {sample[1]}')\n",
    "            flag = False\n",
    "        else:\n",
    "            print(f'{cleaned_text} == {sample[1]}')\n",
    "    if flag:\n",
    "        print('all ok')\n",
    "    else:\n",
    "        print('found problems')"
   ]
  },
  {
   "cell_type": "code",
   "execution_count": 6,
   "id": "5789a4d7",
   "metadata": {},
   "outputs": [
    {
     "name": "stdout",
     "output_type": "stream",
     "text": [
      "سلام == سلام\n",
      "سَلام == سَلام\n",
      "لا قُنوطَ مِنْ رَحْمَةِ اللهِ == لا قُنوطَ مِنْ رَحْمَةِ اللهِ\n",
      "لا قُنوطَ مِنْ رَحْمَةِ اللهِ == لا قُنوطَ مِنْ رَحْمَةِ اللهِ\n",
      "بَرَكاتُ اللهِ == بَرَكاتُ اللهِ\n",
      "أم مريم السلام عليكم ورحمة الله وبركاته == أم مريم السلام عليكم ورحمة الله وبركاته\n",
      "مَشِيئَةُ اللهِ == مَشِيئَةُ اللهِ\n",
      "حيَّاكُم الله == حيَّاكُم الله\n",
      "حيَّاكُم الله == حيَّاكُم الله\n",
      "جمَال الخلق == جمَال الخلق\n",
      "جمَال الخلق == جمَال الخلق\n",
      "أهلًا وسهلًا == أهلًا وسهلًا\n",
      "جميلٌ == جميلٌ\n",
      "جميل == جميل\n",
      "جميل == جميل\n",
      "وَالشَّهَوَاتُ == وَالشَّهَوَاتُ\n",
      "all ok\n"
     ]
    }
   ],
   "source": [
    "test_all()"
   ]
  },
  {
   "cell_type": "code",
   "execution_count": 7,
   "id": "289bf717",
   "metadata": {},
   "outputs": [
    {
     "name": "stdout",
     "output_type": "stream",
     "text": [
      "\u001b[34m\u001b[1mwandb\u001b[0m: Currently logged in as: \u001b[33malyafey22\u001b[0m (\u001b[33marbml\u001b[0m). Use \u001b[1m`wandb login --relogin`\u001b[0m to force relogin\n",
      "WARNING: could not check git hash. 'git_hash'\n",
      "loading from log_dir_ashaar/ashaar_proc.base.cbhg/models/10000-snapshot.pt\n",
      "\n",
      "CONFIGURATION ashaar_proc.base.cbhg\n",
      "- session_name : base\n",
      "- data_directory : data\n",
      "- data_type : ashaar_proc\n",
      "- log_directory : log_dir_ashaar\n",
      "- load_training_data : True\n",
      "- load_test_data : False\n",
      "- load_validation_data : True\n",
      "- n_training_examples : None\n",
      "- n_test_examples : None\n",
      "- n_validation_examples : None\n",
      "- test_file_name : test.csv\n",
      "- is_data_preprocessed : False\n",
      "- data_separator : |\n",
      "- diacritics_separator : *\n",
      "- text_encoder : ArabicEncoderWithStartSymbol\n",
      "- text_cleaner : valid_arabic_cleaners\n",
      "- max_len : 600\n",
      "- max_sen_len : None\n",
      "- max_steps : 10000\n",
      "- learning_rate : 0.001\n",
      "- batch_size : 8\n",
      "- adam_beta1 : 0.9\n",
      "- adam_beta2 : 0.999\n",
      "- use_decay : True\n",
      "- weight_decay : 0.0\n",
      "- embedding_dim : 256\n",
      "- use_prenet : False\n",
      "- prenet_sizes : [512, 256]\n",
      "- cbhg_projections : [128, 256]\n",
      "- cbhg_filters : 16\n",
      "- cbhg_gru_units : 256\n",
      "- post_cbhg_layers_units : [256, 256]\n",
      "- post_cbhg_use_batch_norm : True\n",
      "- use_mixed_precision : False\n",
      "- optimizer_type : Adam\n",
      "- device : cuda\n",
      "- evaluate_frequency : 50000000\n",
      "- max_eval_batches : 100\n",
      "- evaluate_with_error_rates_frequency : 1000\n",
      "- n_predicted_text_tensorboard : 10\n",
      "- model_save_frequency : 5000\n",
      "- train_plotting_frequency : 50000000\n",
      "- n_steps_avg_losses : [100, 500, 1000, 5000]\n",
      "- error_rates_n_batches : 10000\n",
      "- test_model_path : None\n",
      "- train_resume_model_path : None\n",
      "- len_input_symbols : 44\n",
      "- len_target_symbols : 17\n",
      "- optimizer : OptimizerType.Adam\n",
      "- git_hash : 7269780\n",
      "loaded form 10001\n",
      "The model has 15150353 trainable parameters parameters\n",
      "Length of test iterator = 164\n",
      "  0%|                                                   | 0/164 [00:00<?, ?it/s]\n",
      "Eval: 10001:   0%|                                      | 0/164 [00:00<?, ?it/s]\u001b[A\n",
      "Calculating DER/WER 10001: :   0%|                      | 0/164 [00:39<?, ?it/s]\u001b[A\n",
      "Calculating DER/WER 10001: :   1%|            | 1/164 [00:40<1:48:52, 40.07s/it]\u001b[A\n",
      "Calculating DER/WER 10001: :   1%|▏             | 2/164 [00:40<44:43, 16.56s/it]\u001b[A\n",
      "Calculating DER/WER 10001: :   2%|▎             | 3/164 [00:40<24:36,  9.17s/it]\u001b[A\n",
      "Calculating DER/WER 10001: :   3%|▍             | 5/164 [00:40<10:44,  4.06s/it]\u001b[A\n",
      "Calculating DER/WER 10001: :   4%|▌             | 6/164 [00:41<07:51,  2.98s/it]\u001b[A\n",
      "Calculating DER/WER 10001: :   4%|▌             | 7/164 [00:41<05:50,  2.24s/it]\u001b[A\n",
      "Calculating DER/WER 10001: :   5%|▋             | 8/164 [00:41<04:19,  1.67s/it]\u001b[A\n",
      "Calculating DER/WER 10001: :   6%|▊            | 10/164 [00:42<02:29,  1.03it/s]\u001b[A\n",
      "Calculating DER/WER 10001: :   7%|▊            | 11/164 [00:42<01:58,  1.29it/s]\u001b[A\n",
      "Calculating DER/WER 10001: :   7%|▉            | 12/164 [00:42<01:35,  1.59it/s]\u001b[A\n",
      "Calculating DER/WER 10001: :   8%|█            | 13/164 [00:42<01:15,  2.01it/s]\u001b[A\n",
      "Calculating DER/WER 10001: :   9%|█            | 14/164 [00:42<01:00,  2.47it/s]\u001b[A\n",
      "Calculating DER/WER 10001: :   9%|█▏           | 15/164 [00:43<00:58,  2.56it/s]\u001b[A\n",
      "Calculating DER/WER 10001: :  10%|█▎           | 16/164 [00:43<00:53,  2.79it/s]\u001b[A\n",
      "Calculating DER/WER 10001: :  11%|█▍           | 18/164 [00:43<00:39,  3.73it/s]\u001b[A\n",
      "Calculating DER/WER 10001: :  12%|█▌           | 20/164 [00:43<00:26,  5.36it/s]\u001b[A\n",
      "Calculating DER/WER 10001: :  13%|█▋           | 21/164 [00:44<00:27,  5.17it/s]\u001b[A\n",
      "Calculating DER/WER 10001: :  13%|█▋           | 22/164 [00:44<00:24,  5.79it/s]\u001b[A\n",
      "Calculating DER/WER 10001: :  14%|█▊           | 23/164 [00:44<00:21,  6.43it/s]\u001b[A\n",
      "Calculating DER/WER 10001: :  15%|█▉           | 24/164 [00:44<00:26,  5.28it/s]\u001b[A\n",
      "Calculating DER/WER 10001: :  15%|█▉           | 25/164 [00:45<00:38,  3.61it/s]\u001b[A\n",
      "Calculating DER/WER 10001: :  16%|██           | 26/164 [00:45<00:54,  2.54it/s]\u001b[A\n",
      "Calculating DER/WER 10001: :  16%|██▏          | 27/164 [00:46<00:44,  3.05it/s]\u001b[A\n",
      "Calculating DER/WER 10001: :  17%|██▏          | 28/164 [00:46<00:37,  3.65it/s]\u001b[A\n",
      "Calculating DER/WER 10001: :  18%|██▎          | 29/164 [00:46<00:37,  3.60it/s]\u001b[A\n",
      "Calculating DER/WER 10001: :  18%|██▍          | 30/164 [00:46<00:31,  4.28it/s]\u001b[A\n",
      "Calculating DER/WER 10001: :  19%|██▍          | 31/164 [00:47<00:41,  3.20it/s]\u001b[A\n",
      "Calculating DER/WER 10001: :  20%|██▌          | 33/164 [00:47<00:26,  4.89it/s]\u001b[A\n",
      "Calculating DER/WER 10001: :  21%|██▋          | 34/164 [00:47<00:35,  3.66it/s]\u001b[A\n",
      "Calculating DER/WER 10001: :  21%|██▊          | 35/164 [00:48<00:39,  3.27it/s]\u001b[A\n",
      "Calculating DER/WER 10001: :  23%|██▉          | 37/164 [00:48<00:41,  3.07it/s]\u001b[A\n",
      "Calculating DER/WER 10001: :  23%|███          | 38/164 [00:49<00:44,  2.80it/s]\u001b[A\n",
      "Calculating DER/WER 10001: :  24%|███          | 39/164 [00:49<00:40,  3.07it/s]\u001b[A\n",
      "Calculating DER/WER 10001: :  24%|███▏         | 40/164 [00:49<00:33,  3.74it/s]\u001b[A\n",
      "Calculating DER/WER 10001: :  26%|███▎         | 42/164 [00:49<00:24,  4.97it/s]\u001b[A\n",
      "Calculating DER/WER 10001: :  26%|███▍         | 43/164 [00:50<00:26,  4.51it/s]\u001b[A\n",
      "Calculating DER/WER 10001: :  27%|███▍         | 44/164 [00:50<00:27,  4.33it/s]\u001b[A\n",
      "Calculating DER/WER 10001: :  27%|███▌         | 45/164 [00:50<00:27,  4.40it/s]\u001b[A\n",
      "Calculating DER/WER 10001: :  28%|███▋         | 46/164 [00:50<00:26,  4.41it/s]\u001b[A\n",
      "Calculating DER/WER 10001: :  29%|███▋         | 47/164 [00:51<00:27,  4.26it/s]\u001b[A\n",
      "Calculating DER/WER 10001: :  29%|███▊         | 48/164 [00:51<00:34,  3.38it/s]\u001b[A\n",
      "Calculating DER/WER 10001: :  30%|███▉         | 49/164 [00:51<00:32,  3.56it/s]\u001b[A\n",
      "Calculating DER/WER 10001: :  30%|███▉         | 50/164 [00:52<00:34,  3.26it/s]\u001b[A\n",
      "Calculating DER/WER 10001: :  32%|████         | 52/164 [00:52<00:25,  4.35it/s]\u001b[A\n",
      "Calculating DER/WER 10001: :  33%|████▎        | 54/164 [00:52<00:25,  4.29it/s]\u001b[A\n",
      "Calculating DER/WER 10001: :  34%|████▎        | 55/164 [00:53<00:25,  4.33it/s]\u001b[A\n",
      "Calculating DER/WER 10001: :  34%|████▍        | 56/164 [00:54<01:01,  1.74it/s]\u001b[A\n",
      "Calculating DER/WER 10001: :  35%|████▌        | 57/164 [00:55<00:57,  1.85it/s]\u001b[A\n",
      "Calculating DER/WER 10001: :  35%|████▌        | 58/164 [00:55<00:48,  2.21it/s]\u001b[A\n",
      "Calculating DER/WER 10001: :  36%|████▋        | 59/164 [00:55<00:42,  2.49it/s]\u001b[A\n",
      "Calculating DER/WER 10001: :  37%|████▊        | 60/164 [00:55<00:38,  2.73it/s]\u001b[A\n",
      "Calculating DER/WER 10001: :  38%|████▉        | 62/164 [00:56<00:27,  3.71it/s]\u001b[A\n",
      "Calculating DER/WER 10001: :  38%|████▉        | 63/164 [00:57<00:47,  2.13it/s]\u001b[A\n",
      "Calculating DER/WER 10001: :  39%|█████        | 64/164 [00:57<00:40,  2.48it/s]\u001b[A\n",
      "Calculating DER/WER 10001: :  40%|█████▏       | 65/164 [00:57<00:33,  2.96it/s]\u001b[A\n",
      "Calculating DER/WER 10001: :  40%|█████▏       | 66/164 [00:57<00:29,  3.35it/s]\u001b[A\n",
      "Calculating DER/WER 10001: :  41%|█████▍       | 68/164 [00:58<00:24,  3.97it/s]\u001b[A\n",
      "Calculating DER/WER 10001: :  42%|█████▍       | 69/164 [00:58<00:22,  4.16it/s]\u001b[A\n",
      "Calculating DER/WER 10001: :  43%|█████▌       | 70/164 [00:58<00:21,  4.41it/s]\u001b[A\n",
      "Calculating DER/WER 10001: :  43%|█████▋       | 71/164 [00:59<00:25,  3.69it/s]\u001b[A\n",
      "Calculating DER/WER 10001: :  45%|█████▊       | 73/164 [00:59<00:17,  5.34it/s]\u001b[A\n",
      "Calculating DER/WER 10001: :  45%|█████▊       | 74/164 [00:59<00:23,  3.80it/s]\u001b[A\n",
      "Calculating DER/WER 10001: :  46%|█████▉       | 75/164 [00:59<00:21,  4.19it/s]\u001b[A\n",
      "Calculating DER/WER 10001: :  46%|██████       | 76/164 [01:00<00:20,  4.30it/s]\u001b[A\n",
      "Calculating DER/WER 10001: :  47%|██████       | 77/164 [01:00<00:18,  4.67it/s]\u001b[A\n",
      "Calculating DER/WER 10001: :  48%|██████▏      | 78/164 [01:00<00:16,  5.15it/s]\u001b[A\n",
      "Calculating DER/WER 10001: :  49%|██████▎      | 80/164 [01:00<00:13,  6.44it/s]\u001b[A\n",
      "Calculating DER/WER 10001: :  50%|██████▌      | 82/164 [01:00<00:10,  7.55it/s]\u001b[A\n",
      "Calculating DER/WER 10001: :  51%|██████▌      | 83/164 [01:01<00:13,  5.84it/s]\u001b[A\n",
      "Calculating DER/WER 10001: :  51%|██████▋      | 84/164 [01:01<00:14,  5.71it/s]\u001b[A\n",
      "Calculating DER/WER 10001: :  52%|██████▋      | 85/164 [01:01<00:12,  6.29it/s]\u001b[A\n",
      "Calculating DER/WER 10001: :  53%|██████▉      | 87/164 [01:01<00:10,  7.52it/s]\u001b[A\n",
      "Calculating DER/WER 10001: :  54%|███████      | 89/164 [01:01<00:09,  7.77it/s]\u001b[A\n"
     ]
    },
    {
     "name": "stdout",
     "output_type": "stream",
     "text": [
      "Calculating DER/WER 10001: :  55%|███████▏     | 91/164 [01:02<00:07,  9.54it/s]\u001b[A\n",
      "Calculating DER/WER 10001: :  57%|███████▎     | 93/164 [01:02<00:13,  5.19it/s]\u001b[A\n",
      "Calculating DER/WER 10001: :  57%|███████▍     | 94/164 [01:02<00:12,  5.47it/s]\u001b[A\n",
      "Calculating DER/WER 10001: :  58%|███████▌     | 95/164 [01:03<00:11,  6.00it/s]\u001b[A\n",
      "Calculating DER/WER 10001: :  59%|███████▋     | 97/164 [01:03<00:09,  7.19it/s]\u001b[A\n",
      "Calculating DER/WER 10001: :  60%|███████▊     | 98/164 [01:03<00:12,  5.43it/s]\u001b[A\n",
      "Calculating DER/WER 10001: :  60%|███████▊     | 99/164 [01:03<00:11,  5.45it/s]\u001b[A\n",
      "Calculating DER/WER 10001: :  61%|███████▎    | 100/164 [01:04<00:18,  3.55it/s]\u001b[A\n",
      "Calculating DER/WER 10001: :  62%|███████▍    | 101/164 [01:04<00:14,  4.25it/s]\u001b[A\n",
      "Eval: 10001:   0%|                                      | 0/164 [00:27<?, ?it/s]\u001b[A\n",
      "Calculating DER/WER 10001: :   0%|                      | 0/164 [00:00<?, ?it/s]\n",
      "global step : 10001\n",
      "Evaluate 10001: accuracy, 0.8550968569953267, loss: 0.5715624447457675\n",
      "WER/DER 10001: DER: 13.45, WER: 46.99, DER*: 11.6, WER*: 35.42\n"
     ]
    }
   ],
   "source": [
    "!python test.py --model cbhg --config config/ashaar.yml"
   ]
  },
  {
   "cell_type": "code",
   "execution_count": 8,
   "id": "fe8bc3db",
   "metadata": {},
   "outputs": [
    {
     "data": {
      "text/plain": [
       "1312"
      ]
     },
     "execution_count": 8,
     "metadata": {},
     "output_type": "execute_result"
    }
   ],
   "source": [
    "41 * 32"
   ]
  },
  {
   "cell_type": "code",
   "execution_count": 9,
   "id": "7aae4cde",
   "metadata": {},
   "outputs": [],
   "source": [
    "import pandas as pd"
   ]
  },
  {
   "cell_type": "code",
   "execution_count": 10,
   "id": "d8b51bc7",
   "metadata": {},
   "outputs": [
    {
     "data": {
      "text/html": [
       "<div>\n",
       "<style scoped>\n",
       "    .dataframe tbody tr th:only-of-type {\n",
       "        vertical-align: middle;\n",
       "    }\n",
       "\n",
       "    .dataframe tbody tr th {\n",
       "        vertical-align: top;\n",
       "    }\n",
       "\n",
       "    .dataframe thead th {\n",
       "        text-align: right;\n",
       "    }\n",
       "</style>\n",
       "<table border=\"1\" class=\"dataframe\">\n",
       "  <thead>\n",
       "    <tr style=\"text-align: right;\">\n",
       "      <th></th>\n",
       "      <th>قَمَرِيَّةٌ قُمرِيَّةٌ</th>\n",
       "    </tr>\n",
       "  </thead>\n",
       "  <tbody>\n",
       "    <tr>\n",
       "      <th>0</th>\n",
       "      <td>أَمَا تَرَى مِصْرَ كَيْفَ قَدْ جَمِعَتْ بِهَا ...</td>\n",
       "    </tr>\n",
       "    <tr>\n",
       "      <th>1</th>\n",
       "      <td>سَوفَ يحيا يَتَصَنْدَلْ</td>\n",
       "    </tr>\n",
       "    <tr>\n",
       "      <th>2</th>\n",
       "      <td>أُعْلُ وتَجَوَّلْ</td>\n",
       "    </tr>\n",
       "    <tr>\n",
       "      <th>3</th>\n",
       "      <td>فَمَا لِلجُيُوشِ فِيهَا غُبَارُ</td>\n",
       "    </tr>\n",
       "    <tr>\n",
       "      <th>4</th>\n",
       "      <td>وَ رَأَيْتُ فِي عَـيْنَـيْكِ مِنْ ذَوْبِ الهَوَى</td>\n",
       "    </tr>\n",
       "    <tr>\n",
       "      <th>...</th>\n",
       "      <td>...</td>\n",
       "    </tr>\n",
       "    <tr>\n",
       "      <th>1299</th>\n",
       "      <td>زَوالْهُمُ يَدُلُّ عَلى زَوالِكْ</td>\n",
       "    </tr>\n",
       "    <tr>\n",
       "      <th>1300</th>\n",
       "      <td>وَيَـصْـبُـو إِلَيْهِ ذُو الْحِـجَـا وَهْـوَ أ...</td>\n",
       "    </tr>\n",
       "    <tr>\n",
       "      <th>1301</th>\n",
       "      <td>يَدْخُلُ الْبِشْرُ في إِثْرِهِ وَتُظَلِّلُهُ ا...</td>\n",
       "    </tr>\n",
       "    <tr>\n",
       "      <th>1302</th>\n",
       "      <td>وَظَبيٍ بِقَفرٍ فَوقَ طِرفٍ مُفَوِّقٍ</td>\n",
       "    </tr>\n",
       "    <tr>\n",
       "      <th>1303</th>\n",
       "      <td>وَلَقَدْ يَقِلُّ لِمنْ سَعَى ليَّ بِرُّهُ</td>\n",
       "    </tr>\n",
       "  </tbody>\n",
       "</table>\n",
       "<p>1304 rows × 1 columns</p>\n",
       "</div>"
      ],
      "text/plain": [
       "                                 قَمَرِيَّةٌ قُمرِيَّةٌ\n",
       "0     أَمَا تَرَى مِصْرَ كَيْفَ قَدْ جَمِعَتْ بِهَا ...\n",
       "1                               سَوفَ يحيا يَتَصَنْدَلْ\n",
       "2                                     أُعْلُ وتَجَوَّلْ\n",
       "3                       فَمَا لِلجُيُوشِ فِيهَا غُبَارُ\n",
       "4      وَ رَأَيْتُ فِي عَـيْنَـيْكِ مِنْ ذَوْبِ الهَوَى\n",
       "...                                                 ...\n",
       "1299                   زَوالْهُمُ يَدُلُّ عَلى زَوالِكْ\n",
       "1300  وَيَـصْـبُـو إِلَيْهِ ذُو الْحِـجَـا وَهْـوَ أ...\n",
       "1301  يَدْخُلُ الْبِشْرُ في إِثْرِهِ وَتُظَلِّلُهُ ا...\n",
       "1302              وَظَبيٍ بِقَفرٍ فَوقَ طِرفٍ مُفَوِّقٍ\n",
       "1303          وَلَقَدْ يَقِلُّ لِمنْ سَعَى ليَّ بِرُّهُ\n",
       "\n",
       "[1304 rows x 1 columns]"
      ]
     },
     "execution_count": 10,
     "metadata": {},
     "output_type": "execute_result"
    }
   ],
   "source": [
    "pd.read_csv('/home/g201080740/Arabic_Diacritization/data/ashaar_proc/test.csv')"
   ]
  },
  {
   "cell_type": "code",
   "execution_count": 11,
   "id": "6623d48e",
   "metadata": {},
   "outputs": [],
   "source": [
    "faulty_sample = \"خَرِيفٌ جَدِيدٌ لاِمْرَأَةِ النَّارِ كُونِي كَمَا خَلَقَتْكِ الأَسَاطِيرُ وَالشَّهَوَاتُ وَكُونِي رَصِيفًا لِمَا يَتَسَاقَطُ مِنْ وَرْدَتِي وَرِيَاحًا لِبَحَّارَةٍ لَا يُرِيدُونَ أَنْ يُبْحِرُوا كَمْ أَرِيدُكِ عِنْدَ هُبُوطِ الخَرِيفِ عَلَى الرُّوحِ كَمْ أَتَمَنَّى بَقَائِي كُوني وَنَافِذَةً لِلْحَدِيقَةِ كُونِي وَأْمًَّا لِيَأْسِي مِنَ الأَرْضِ كُوني مَلاَئكَتِي أَوْ خَطِيئَةَ سَاقَينِ حَوْلِي أُحِبُّكِ قَبْلَ احْتِكَاكِ دَمِي بِالعَوَاصِفِ وَالنَّحْلِ يَصْحُ الكَلَامُ عَلَى عَسَلِ الشّهَوَاتِ أُحبّكِ أَوْ لَا أُحِبّكِ لَا أَسْتَطِيعُ\""
   ]
  },
  {
   "cell_type": "code",
   "execution_count": 12,
   "id": "31d03e70",
   "metadata": {
    "scrolled": true
   },
   "outputs": [
    {
     "name": "stdout",
     "output_type": "stream",
     "text": [
      "خَرِيفٌ جَدِيدٌ لاِمْرَأَةِ النَّارِ كُونِي كَمَا خَلَقَتْكِ الأَسَاطِيرُ وَالشَّهَوَاتُ وَكُونِي رَصِيفًا لِمَا يَتَسَاقَطُ مِنْ وَرْدَتِي وَرِيَاحًا لِبَحَّارَةٍ لَا يُرِيدُونَ أَنْ يُبْحِرُوا كَمْ أَرِيدُكِ عِنْدَ هُبُوطِ الخَرِيفِ عَلَى الرُّوحِ كَمْ أَتَمَنَّى بَقَائِي كُوني وَنَافِذَةً لِلْحَدِيقَةِ كُونِي وَأْمًَّا لِيَأْسِي مِنَ الأَرْضِ كُوني مَلاَئكَتِي أَوْ خَطِيئَةَ سَاقَينِ حَوْلِي أُحِبُّكِ قَبْلَ احْتِكَاكِ دَمِي بِالعَوَاصِفِ وَالنَّحْلِ يَصْحُ الكَلَامُ عَلَى عَسَلِ الشّهَوَاتِ أُحبّكِ أَوْ لَا أُحِبّكِ لَا أَسْتَطِيعُ\n"
     ]
    }
   ],
   "source": [
    "print(faulty_sample)"
   ]
  },
  {
   "cell_type": "code",
   "execution_count": 13,
   "id": "59354fa6",
   "metadata": {},
   "outputs": [
    {
     "name": "stdout",
     "output_type": "stream",
     "text": [
      "خَرِيفٌ جَدِيدٌ لاِمْرَأَةِ النَّارِ كُونِي كَمَا خَلَقَتْكِ الأَسَاطِيرُ وَالشَّهَوَاتُ وَكُونِي رَ\n",
      "خَرِيفٌ جَدِيدٌ لِامْرَأَةِ النّارِ كُونِي كَمَا خَلَقَتْكِ الأَسَاطِيرُ وَالشّهَوَاتُ وَكُونِي رَ\n"
     ]
    }
   ],
   "source": [
    "from util.text_cleaners import valid_arabic_cleaners\n",
    "print(faulty_sample[:100])\n",
    "print(valid_arabic_cleaners(faulty_sample[:100]))"
   ]
  },
  {
   "cell_type": "code",
   "execution_count": 14,
   "id": "6b6ff3c9",
   "metadata": {},
   "outputs": [
    {
     "data": {
      "text/plain": [
       "False"
      ]
     },
     "execution_count": 14,
     "metadata": {},
     "output_type": "execute_result"
    }
   ],
   "source": [
    "faulty_sample[:100].strip() == valid_arabic_cleaners(faulty_sample[:100]).strip()"
   ]
  },
  {
   "cell_type": "code",
   "execution_count": 15,
   "id": "2d4cd90f",
   "metadata": {},
   "outputs": [],
   "source": [
    "from diacritization_evaluation import util\n",
    "out = util.extract_haraqat(valid_arabic_cleaners(faulty_sample[300:400]))"
   ]
  },
  {
   "cell_type": "code",
   "execution_count": 16,
   "id": "a2c55236",
   "metadata": {},
   "outputs": [
    {
     "data": {
      "text/plain": [
       "'ونِي وَأْمّا لِيَأْسِي مِنَ الأَرْضِ كُوني مَلَائكَتِي أَوْ خَطِيئَةَ سَاقَينِ حَوْلِي أُ'"
      ]
     },
     "execution_count": 16,
     "metadata": {},
     "output_type": "execute_result"
    }
   ],
   "source": [
    "valid_arabic_cleaners(valid_arabic_cleaners(faulty_sample[309:400]))"
   ]
  },
  {
   "cell_type": "code",
   "execution_count": 17,
   "id": "eb67b053",
   "metadata": {},
   "outputs": [
    {
     "data": {
      "text/plain": [
       "'ونِي وَأْمًَّا لِيَأْسِي مِنَ الأَرْضِ كُوني مَلاَئكَتِي أَوْ خَطِيئَةَ سَاقَينِ حَوْلِي أُ'"
      ]
     },
     "execution_count": 17,
     "metadata": {},
     "output_type": "execute_result"
    }
   ],
   "source": [
    "faulty_sample[309:400]"
   ]
  }
 ],
 "metadata": {
  "kernelspec": {
   "display_name": "Python 3 (ipykernel)",
   "language": "python",
   "name": "python3"
  },
  "language_info": {
   "codemirror_mode": {
    "name": "ipython",
    "version": 3
   },
   "file_extension": ".py",
   "mimetype": "text/x-python",
   "name": "python",
   "nbconvert_exporter": "python",
   "pygments_lexer": "ipython3",
   "version": "3.8.10"
  }
 },
 "nbformat": 4,
 "nbformat_minor": 5
}
